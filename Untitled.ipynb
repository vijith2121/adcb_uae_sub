{
 "cells": [
  {
   "cell_type": "code",
   "execution_count": 1,
   "id": "42b4f010-fbb9-4a35-9525-1e4e8fc4f1e3",
   "metadata": {},
   "outputs": [],
   "source": [
    "import pandas as pd"
   ]
  },
  {
   "cell_type": "code",
   "execution_count": 2,
   "id": "cf9ee4c0-fdbe-4d7b-abe8-d90fa1a1d51f",
   "metadata": {},
   "outputs": [],
   "source": [
    "df = pd.read_csv('adcb_uae_sub.csv', dtype=object)"
   ]
  },
  {
   "cell_type": "code",
   "execution_count": 3,
   "id": "39a5a031-c1ec-4c22-a103-f76b89a9d398",
   "metadata": {},
   "outputs": [
    {
     "name": "stdout",
     "output_type": "stream",
     "text": [
      "<class 'pandas.core.frame.DataFrame'>\n",
      "RangeIndex: 20 entries, 0 to 19\n",
      "Data columns (total 36 columns):\n",
      " #   Column                           Non-Null Count  Dtype \n",
      "---  ------                           --------------  ----- \n",
      " 0   A_C_no                           18 non-null     object\n",
      " 1   Bucket_1_amount                  10 non-null     object\n",
      " 2   Bucket_2_amount                  10 non-null     object\n",
      " 3   Bucket_3_amount                  10 non-null     object\n",
      " 4   Bucket_4_amount                  10 non-null     object\n",
      " 5   Bucket_5_amount                  10 non-null     object\n",
      " 6   Bucket_6_amount                  10 non-null     object\n",
      " 7   Bucket_greater_6_amount          10 non-null     object\n",
      " 8   Card_type                        10 non-null     object\n",
      " 9   Credit_Shield_Flag_or_Uniq_acno  10 non-null     object\n",
      " 10  Credit_card_limit                10 non-null     object\n",
      " 11  Current_Balance                  3 non-null      object\n",
      " 12  Current_Bucket_amount            10 non-null     object\n",
      " 13  Days_Past_Due                    8 non-null      object\n",
      " 14  Days_past_due                    10 non-null     object\n",
      " 15  Expiry_flag                      3 non-null      object\n",
      " 16  Interest_Amount                  3 non-null      object\n",
      " 17  Interest_In_Suspense             3 non-null      object\n",
      " 18  Interest_Profit_OS               15 non-null     object\n",
      " 19  Issue_date                       0 non-null      object\n",
      " 20  Last_payment_amount              10 non-null     object\n",
      " 21  Last_payment_date                9 non-null      object\n",
      " 22  Last_statement_date              10 non-null     object\n",
      " 23  MinimumPayment_Amount            10 non-null     object\n",
      " 24  Next_due_date                    0 non-null      object\n",
      " 25  OD_Limit_End_Date                3 non-null      object\n",
      " 26  OD_Limit_Set_Date                3 non-null      object\n",
      " 27  Outstanding                      15 non-null     object\n",
      " 28  PROD                             3 non-null      object\n",
      " 29  Principal_OS                     15 non-null     object\n",
      " 30  Product_Code                     8 non-null      object\n",
      " 31  Total_Due                        3 non-null      object\n",
      " 32  Total_Overdue_amount             9 non-null      object\n",
      " 33  Utilisation                      3 non-null      object\n",
      " 34  cid_no                           20 non-null     object\n",
      " 35  scrape_date                      20 non-null     object\n",
      "dtypes: object(36)\n",
      "memory usage: 5.8+ KB\n"
     ]
    }
   ],
   "source": [
    "df.info()"
   ]
  },
  {
   "cell_type": "code",
   "execution_count": 6,
   "id": "a7833229-3d9d-4240-9ce5-fadfb7da443d",
   "metadata": {},
   "outputs": [
    {
     "data": {
      "text/plain": [
       "{0: nan,\n",
       " 1: '96,915.54',\n",
       " 2: nan,\n",
       " 3: nan,\n",
       " 4: nan,\n",
       " 5: '14,934.38',\n",
       " 6: nan,\n",
       " 7: '11,246.92',\n",
       " 8: '49,415.64',\n",
       " 9: '19,595.68',\n",
       " 10: nan,\n",
       " 11: '69,709.87',\n",
       " 12: nan,\n",
       " 13: '33,641.68',\n",
       " 14: nan,\n",
       " 15: '29,953.69',\n",
       " 16: '22,825.29',\n",
       " 17: nan,\n",
       " 18: nan,\n",
       " 19: nan}"
      ]
     },
     "execution_count": 6,
     "metadata": {},
     "output_type": "execute_result"
    }
   ],
   "source": [
    "df['Total_Overdue_amount'].to_dict()"
   ]
  },
  {
   "cell_type": "code",
   "execution_count": null,
   "id": "d863b87a-3a94-42f6-b7cd-4c8cad25060b",
   "metadata": {},
   "outputs": [],
   "source": []
  }
 ],
 "metadata": {
  "kernelspec": {
   "display_name": "Python 3 (ipykernel)",
   "language": "python",
   "name": "python3"
  },
  "language_info": {
   "codemirror_mode": {
    "name": "ipython",
    "version": 3
   },
   "file_extension": ".py",
   "mimetype": "text/x-python",
   "name": "python",
   "nbconvert_exporter": "python",
   "pygments_lexer": "ipython3",
   "version": "3.12.3"
  }
 },
 "nbformat": 4,
 "nbformat_minor": 5
}
